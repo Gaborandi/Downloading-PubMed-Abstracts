{
 "cells": [
  {
   "cell_type": "code",
   "execution_count": 77,
   "id": "fabb9a7c-de11-42c6-af96-2747430ac292",
   "metadata": {},
   "outputs": [],
   "source": [
    "from pymed import PubMed\n",
    "import pandas as pd\n",
    "\n",
    "## PUT YOUR SEARCH TERM HERE ##\n",
    "search_term = \"Coronary Artery Bypass\"\n",
    "\n",
    "pubmed = PubMed(tool=\"MyTool\", email=\"aalamel@clemson.edu\")\n",
    "results = pubmed.query(search_term, max_results=15000)\n",
    "articleList = []\n",
    "articleInfo = []\n",
    "\n",
    "for article in results:\n",
    "# Print the type of object we've found (can be either PubMedBookArticle or PubMedArticle).\n",
    "# We need to convert it to dictionary with available function\n",
    "    articleDict = article.toDict()\n",
    "    articleList.append(articleDict)\n",
    "\n",
    "# Generate list of dict records which will hold all article details that could be fetch from PUBMED API\n",
    "for article in articleList:\n",
    "#Sometimes article['pubmed_id'] contains list separated with comma - take first pubmedId in that list - thats article pubmedId\n",
    "    pubmedId = article['pubmed_id'].partition('\\n')[0]\n",
    "    # Append article info to dictionary \n",
    "    articleInfo.append({u'pubmed_id':pubmedId,\n",
    "                       u'title':article['title'],\n",
    "                       #u'keywords':article['keywords'],\n",
    "                       #u'journal':article['journal'],\n",
    "                       u'abstract':article['abstract'],\n",
    "                       #u'conclusions':article['conclusions'],\n",
    "                       #u'methods':article['methods'],\n",
    "                       #u'results': article['results'],\n",
    "                       #u'doi':article['doi'],\n",
    "                       u'publication_date':article['publication_date'], \n",
    "                       u'authors':article['authors']})\n",
    "\n",
    "# Generate Pandas DataFrame from list of dictionaries\n",
    "cardio_abstract = pd.DataFrame.from_dict(articleInfo)\n",
    "cardio_abstract = cardio_abstract.to_csv (r'Coronary_Artery_Bypass.csv', index = None, header=True) "
   ]
  },
  {
   "cell_type": "code",
   "execution_count": 122,
   "id": "d38aa9a2-fb08-443b-94c5-95c86afd0bd7",
   "metadata": {},
   "outputs": [
    {
     "data": {
      "text/html": [
       "<div>\n",
       "<style scoped>\n",
       "    .dataframe tbody tr th:only-of-type {\n",
       "        vertical-align: middle;\n",
       "    }\n",
       "\n",
       "    .dataframe tbody tr th {\n",
       "        vertical-align: top;\n",
       "    }\n",
       "\n",
       "    .dataframe thead th {\n",
       "        text-align: right;\n",
       "    }\n",
       "</style>\n",
       "<table border=\"1\" class=\"dataframe\">\n",
       "  <thead>\n",
       "    <tr style=\"text-align: right;\">\n",
       "      <th></th>\n",
       "      <th>pubmed_id</th>\n",
       "      <th>title</th>\n",
       "      <th>abstract</th>\n",
       "      <th>publication_date</th>\n",
       "      <th>authors</th>\n",
       "    </tr>\n",
       "  </thead>\n",
       "  <tbody>\n",
       "    <tr>\n",
       "      <th>0</th>\n",
       "      <td>36271783</td>\n",
       "      <td>Prediction of postoperative atrial fibrillatio...</td>\n",
       "      <td>NaN</td>\n",
       "      <td>2022-10-23</td>\n",
       "      <td>[{'lastname': 'Feilberg Rasmussen', 'firstname...</td>\n",
       "    </tr>\n",
       "    <tr>\n",
       "      <th>1</th>\n",
       "      <td>36270713</td>\n",
       "      <td>Coronary perforation incidence, outcomes and t...</td>\n",
       "      <td>Coronary perforation is a potentially life-thr...</td>\n",
       "      <td>2022-10-22</td>\n",
       "      <td>[{'lastname': 'Mikhail', 'firstname': 'Philopa...</td>\n",
       "    </tr>\n",
       "    <tr>\n",
       "      <th>2</th>\n",
       "      <td>36270493</td>\n",
       "      <td>External applicability of the Effect of ticagr...</td>\n",
       "      <td>THEMIS is a double-blind, randomized trial of ...</td>\n",
       "      <td>2022-10-22</td>\n",
       "      <td>[{'lastname': 'Abtan', 'firstname': 'Jeremie',...</td>\n",
       "    </tr>\n",
       "    <tr>\n",
       "      <th>3</th>\n",
       "      <td>36269991</td>\n",
       "      <td>Preoperative Platelet Function Testing and Tim...</td>\n",
       "      <td>NaN</td>\n",
       "      <td>2022-10-22</td>\n",
       "      <td>[{'lastname': 'Butt', 'firstname': 'Amir', 'in...</td>\n",
       "    </tr>\n",
       "    <tr>\n",
       "      <th>4</th>\n",
       "      <td>36268485</td>\n",
       "      <td>Bilateral internal mammary artery in coronary ...</td>\n",
       "      <td>NaN</td>\n",
       "      <td>2022-10-22</td>\n",
       "      <td>[{'lastname': 'Smoczyñski', 'firstname': 'Rado...</td>\n",
       "    </tr>\n",
       "  </tbody>\n",
       "</table>\n",
       "</div>"
      ],
      "text/plain": [
       "   pubmed_id                                              title  \\\n",
       "0   36271783  Prediction of postoperative atrial fibrillatio...   \n",
       "1   36270713  Coronary perforation incidence, outcomes and t...   \n",
       "2   36270493  External applicability of the Effect of ticagr...   \n",
       "3   36269991  Preoperative Platelet Function Testing and Tim...   \n",
       "4   36268485  Bilateral internal mammary artery in coronary ...   \n",
       "\n",
       "                                            abstract publication_date  \\\n",
       "0                                                NaN       2022-10-23   \n",
       "1  Coronary perforation is a potentially life-thr...       2022-10-22   \n",
       "2  THEMIS is a double-blind, randomized trial of ...       2022-10-22   \n",
       "3                                                NaN       2022-10-22   \n",
       "4                                                NaN       2022-10-22   \n",
       "\n",
       "                                             authors  \n",
       "0  [{'lastname': 'Feilberg Rasmussen', 'firstname...  \n",
       "1  [{'lastname': 'Mikhail', 'firstname': 'Philopa...  \n",
       "2  [{'lastname': 'Abtan', 'firstname': 'Jeremie',...  \n",
       "3  [{'lastname': 'Butt', 'firstname': 'Amir', 'in...  \n",
       "4  [{'lastname': 'Smoczyñski', 'firstname': 'Rado...  "
      ]
     },
     "execution_count": 122,
     "metadata": {},
     "output_type": "execute_result"
    }
   ],
   "source": [
    "pub = pd.read_csv('Coronary_Artery_Bypass.csv')\n",
    "pub.head(5)"
   ]
  },
  {
   "cell_type": "code",
   "execution_count": 79,
   "id": "3b57038f-f70a-4bc7-848c-afe6c383c1d7",
   "metadata": {},
   "outputs": [
    {
     "data": {
      "text/plain": [
       "(2529, (15000,))"
      ]
     },
     "execution_count": 79,
     "metadata": {},
     "output_type": "execute_result"
    }
   ],
   "source": [
    "pub['abstract'].isna().sum() , pub['abstract'].shape"
   ]
  },
  {
   "cell_type": "code",
   "execution_count": 92,
   "id": "396b42b5-06be-41a2-835c-2d7c5a22cfa8",
   "metadata": {},
   "outputs": [
    {
     "data": {
      "text/plain": [
       "'Coronary artery bypass grafting is often delayed after acute myocardial infarction to avoid an increase in postoperative morbidity and mortality. We hypothesized that the timing of coronary artery bypass grafting after acute myocardial infarction may not be consistently associated with postoperative outcomes.\\nAll patients who underwent isolated coronary artery bypass grafting at the University of Pittsburgh Medical Center from 2011 to 2017 after an acute myocardial infarction were reviewed. A comparative analysis for time from myocardial infarction presentation to coronary artery bypass grafting was performed with primary outcomes including all-cause mortality and readmission.\\nA total of 7048 patients underwent isolated coronary artery bypass grafting. Of these, 2058 patients had acute myocardial infarction with all relevant variables available for analysis. The study population was divided into 2 coronary artery bypass grafting timing cohorts, including less than 24\\xa0hours (n\\xa0=\\xa0292) and 24\\xa0hours or more (n\\xa0=\\xa01766). Previous percutaneous coronary intervention, cardiogenic shock, and intra-aortic balloon pump were more prevalent in the less than 24\\xa0hours group. Operative mortality was significantly higher in the less than 24\\xa0hours cohort (7.19% vs 3.79%; P\\xa0=\\xa0.01). Diabetes mellitus, peripheral vascular disease, serum creatinine, age, chronic obstructive pulmonary disease, and immunosuppression were significant predictors (P\\xa0<\\xa0.05) of mortality. After risk adjustment with propensity scoring, there was no difference between time cohorts for operative mortality (4.15% vs 4.58%; P\\xa0=\\xa0.62). New-onset atrial fibrillation occurred more frequently in the 24\\xa0hours or more cohort. There was no difference between groups for the occurrence of major adverse cardiovascular and cerebrovascular event readmissions.\\nAfter adjusting for baseline patient characteristics, there was no statistically significant difference between timing cohorts for mortality or major\\xa0adverse cardiovascular and cerebrovascular event readmissions.'"
      ]
     },
     "execution_count": 92,
     "metadata": {},
     "output_type": "execute_result"
    }
   ],
   "source": [
    "pub['abstract'][6000]"
   ]
  },
  {
   "cell_type": "code",
   "execution_count": 83,
   "id": "a348fe01-56c0-4513-8fa6-292f727338d1",
   "metadata": {},
   "outputs": [],
   "source": [
    "from pymed import PubMed\n",
    "import pandas as pd\n",
    "\n",
    "## PUT YOUR SEARCH TERM HERE ##\n",
    "search_term = \"Coronary Artery Disease\"\n",
    "\n",
    "pubmed = PubMed(tool=\"MyTool\", email=\"aalamel@clemson.edu\")\n",
    "results = pubmed.query(search_term, max_results=15000)\n",
    "articleList = []\n",
    "articleInfo = []\n",
    "\n",
    "for article in results:\n",
    "# Print the type of object we've found (can be either PubMedBookArticle or PubMedArticle).\n",
    "# We need to convert it to dictionary with available function\n",
    "    articleDict = article.toDict()\n",
    "    articleList.append(articleDict)\n",
    "\n",
    "# Generate list of dict records which will hold all article details that could be fetch from PUBMED API\n",
    "for article in articleList:\n",
    "#Sometimes article['pubmed_id'] contains list separated with comma - take first pubmedId in that list - thats article pubmedId\n",
    "    pubmedId = article['pubmed_id'].partition('\\n')[0]\n",
    "    # Append article info to dictionary \n",
    "    articleInfo.append({u'pubmed_id':pubmedId,\n",
    "                       u'title':article['title'],\n",
    "                       #u'keywords':article['keywords'],\n",
    "                       #u'journal':article['journal'],\n",
    "                       u'abstract':article['abstract'],\n",
    "                       #u'conclusions':article['conclusions'],\n",
    "                       #u'methods':article['methods'],\n",
    "                      # u'results': article['results'],\n",
    "                      # u'doi':article['doi'],\n",
    "                       u'publication_date':article['publication_date'], \n",
    "                       u'authors':article['authors']})\n",
    "\n",
    "# Generate Pandas DataFrame from list of dictionaries\n",
    "cad = pd.DataFrame.from_dict(articleInfo)\n",
    "cad = cad.to_csv (r'Coronary_Artery_Disease.csv', index = None, header=True) "
   ]
  },
  {
   "cell_type": "code",
   "execution_count": 123,
   "id": "a9b24d24-c1d8-4b51-ad40-1b82a2bc89d2",
   "metadata": {},
   "outputs": [
    {
     "data": {
      "text/html": [
       "<div>\n",
       "<style scoped>\n",
       "    .dataframe tbody tr th:only-of-type {\n",
       "        vertical-align: middle;\n",
       "    }\n",
       "\n",
       "    .dataframe tbody tr th {\n",
       "        vertical-align: top;\n",
       "    }\n",
       "\n",
       "    .dataframe thead th {\n",
       "        text-align: right;\n",
       "    }\n",
       "</style>\n",
       "<table border=\"1\" class=\"dataframe\">\n",
       "  <thead>\n",
       "    <tr style=\"text-align: right;\">\n",
       "      <th></th>\n",
       "      <th>pubmed_id</th>\n",
       "      <th>title</th>\n",
       "      <th>abstract</th>\n",
       "      <th>publication_date</th>\n",
       "      <th>authors</th>\n",
       "    </tr>\n",
       "  </thead>\n",
       "  <tbody>\n",
       "    <tr>\n",
       "      <th>0</th>\n",
       "      <td>36273282</td>\n",
       "      <td>Study of Characteristic Retinal Findings among...</td>\n",
       "      <td>Background Systemic hypertension is one of the...</td>\n",
       "      <td>2022-10-24</td>\n",
       "      <td>[{'lastname': 'Shrestha', 'firstname': 'T', 'i...</td>\n",
       "    </tr>\n",
       "    <tr>\n",
       "      <th>1</th>\n",
       "      <td>36272830</td>\n",
       "      <td>[Lawsuits related to delays in the investigati...</td>\n",
       "      <td>Coronary disease results from the slow formati...</td>\n",
       "      <td>2022-10-23</td>\n",
       "      <td>[{'lastname': 'Gaultier', 'firstname': 'Cedric...</td>\n",
       "    </tr>\n",
       "    <tr>\n",
       "      <th>2</th>\n",
       "      <td>36272600</td>\n",
       "      <td>Analysis of apoB concentrations across early a...</td>\n",
       "      <td>The cumulative exposure to apolipoprotein B-co...</td>\n",
       "      <td>2022-10-23</td>\n",
       "      <td>[{'lastname': 'Wilkins', 'firstname': 'John T'...</td>\n",
       "    </tr>\n",
       "    <tr>\n",
       "      <th>3</th>\n",
       "      <td>36272449</td>\n",
       "      <td>Association between hypercholesterolemia and m...</td>\n",
       "      <td>Some observational studies have observed a low...</td>\n",
       "      <td>2022-10-23</td>\n",
       "      <td>[{'lastname': 'Rozanski', 'firstname': 'Alan',...</td>\n",
       "    </tr>\n",
       "    <tr>\n",
       "      <th>4</th>\n",
       "      <td>36270786</td>\n",
       "      <td>Severity of obstructive coronary artery stenos...</td>\n",
       "      <td>Women with a history of pre-eclampsia are at h...</td>\n",
       "      <td>2022-10-22</td>\n",
       "      <td>[{'lastname': 'Ray', 'firstname': 'Joel G', 'i...</td>\n",
       "    </tr>\n",
       "  </tbody>\n",
       "</table>\n",
       "</div>"
      ],
      "text/plain": [
       "   pubmed_id                                              title  \\\n",
       "0   36273282  Study of Characteristic Retinal Findings among...   \n",
       "1   36272830  [Lawsuits related to delays in the investigati...   \n",
       "2   36272600  Analysis of apoB concentrations across early a...   \n",
       "3   36272449  Association between hypercholesterolemia and m...   \n",
       "4   36270786  Severity of obstructive coronary artery stenos...   \n",
       "\n",
       "                                            abstract publication_date  \\\n",
       "0  Background Systemic hypertension is one of the...       2022-10-24   \n",
       "1  Coronary disease results from the slow formati...       2022-10-23   \n",
       "2  The cumulative exposure to apolipoprotein B-co...       2022-10-23   \n",
       "3  Some observational studies have observed a low...       2022-10-23   \n",
       "4  Women with a history of pre-eclampsia are at h...       2022-10-22   \n",
       "\n",
       "                                             authors  \n",
       "0  [{'lastname': 'Shrestha', 'firstname': 'T', 'i...  \n",
       "1  [{'lastname': 'Gaultier', 'firstname': 'Cedric...  \n",
       "2  [{'lastname': 'Wilkins', 'firstname': 'John T'...  \n",
       "3  [{'lastname': 'Rozanski', 'firstname': 'Alan',...  \n",
       "4  [{'lastname': 'Ray', 'firstname': 'Joel G', 'i...  "
      ]
     },
     "execution_count": 123,
     "metadata": {},
     "output_type": "execute_result"
    }
   ],
   "source": [
    "pub1 = pd.read_csv('Coronary_Artery_Disease.csv')\n",
    "pub1.head(5)"
   ]
  },
  {
   "cell_type": "code",
   "execution_count": 85,
   "id": "a04901da-65d9-482a-b9c3-3d1ef5582972",
   "metadata": {},
   "outputs": [
    {
     "data": {
      "text/plain": [
       "(1812, (15000,))"
      ]
     },
     "execution_count": 85,
     "metadata": {},
     "output_type": "execute_result"
    }
   ],
   "source": [
    "pub1['abstract'].isna().sum() , pub1['abstract'].shape"
   ]
  },
  {
   "cell_type": "code",
   "execution_count": 91,
   "id": "437d63fa-1a46-43f1-bce0-f386eb8a4ec2",
   "metadata": {},
   "outputs": [
    {
     "data": {
      "text/plain": [
       "'The long-term risk of cardiovascular outcomes from either stereotactic body radiation therapy (SBRT) or three-dimensional conformal radiation therapy (3DCRT) plus intensity-modulated radiation therapy (IMRT) to treat early stage non-small cell lung cancer (NSCLC) is largely unknown. As continued adoption of SBRT accelerates, it is important to delineate unforeseen cardiovascular risks associated with treatment.\\nDoes the long-term risk of cardiovascular outcomes for patients with early stage NSCLC treated with either SBRT or 3DCRT plus IMRT differ by tumor laterality?\\nData from the Surveillance, Epidemiology, and End Results registry linked to Medicare was analyzed to identify a sample of 3,256 patients (1,506 treated with SBRT and 1,750 treated with 3DCRT plus IMRT) with node-negative stage I or IIA NSCLC. Cardiovascular events were identified using diagnosis codes, and outcomes were compared between left- and right-sided tumors. We assumed that tumor laterality was random and that the radiation field for left-sided tumors likely would result in greater dose to cardiac tissues. Cox regression models were fit to quantify the association of laterality on outcomes.\\nPatients were followed up for a median of 2 years. Those treated with SBRT showed no difference in hazard of any cardiovascular outcomes by tumor laterality, including the cardiovascular composite (hazard ratio [HR] comparing left- vs\\xa0right-sided tumors, 0.98; 95%\\xa0CI, 0.84-1.15). In contrast, patients treated with 3DCRT plus IMRT showed a greater risk of congestive heart failure (HR, 1.23; 95%\\xa0CI, 1.01-1.48) and percutaneous coronary artery intervention (HR, 2.24; 95%\\xa0CI, 1.12-4.47).\\nPatients with left- vs\\xa0right-sided early stage NSCLC showed similar rates of cardiovascular events when treated with SBRT. However, these patients also showed higher rates of select cardiac events when they were treated with 3DCRT plus IMRT. This study provides evidence that SBRT may provide a safer option over 3DCRT plus IMRT for patients with left-sided early stage NSCLC and underscores the need for long-term follow-up for patients treated with radiation therapy.'"
      ]
     },
     "execution_count": 91,
     "metadata": {},
     "output_type": "execute_result"
    }
   ],
   "source": [
    "pub1['abstract'][6000]"
   ]
  },
  {
   "cell_type": "code",
   "execution_count": 94,
   "id": "41fcf880-48eb-408d-b247-2066d4125195",
   "metadata": {},
   "outputs": [],
   "source": [
    "from pymed import PubMed\n",
    "import pandas as pd\n",
    "\n",
    "## PUT YOUR SEARCH TERM HERE ##\n",
    "search_term = \"open heart\"\n",
    "\n",
    "pubmed = PubMed(tool=\"MyTool\", email=\"aalamel@clemson.edu\")\n",
    "results = pubmed.query(search_term, max_results=25000)\n",
    "articleList = []\n",
    "articleInfo = []\n",
    "\n",
    "for article in results:\n",
    "# Print the type of object we've found (can be either PubMedBookArticle or PubMedArticle).\n",
    "# We need to convert it to dictionary with available function\n",
    "    articleDict = article.toDict()\n",
    "    articleList.append(articleDict)\n",
    "\n",
    "# Generate list of dict records which will hold all article details that could be fetch from PUBMED API\n",
    "for article in articleList:\n",
    "#Sometimes article['pubmed_id'] contains list separated with comma - take first pubmedId in that list - thats article pubmedId\n",
    "    pubmedId = article['pubmed_id'].partition('\\n')[0]\n",
    "    # Append article info to dictionary \n",
    "    articleInfo.append({u'pubmed_id':pubmedId,\n",
    "                       u'title':article['title'],\n",
    "                       #u'keywords':article['keywords'],\n",
    "                       #u'journal':article['journal'],\n",
    "                       u'abstract':article['abstract'],\n",
    "                       #u'conclusions':article['conclusions'],\n",
    "                       #u'methods':article['methods'],\n",
    "                       #u'results': article['results'],\n",
    "                       #u'doi':article['doi'],\n",
    "                       u'publication_date':article['publication_date'], \n",
    "                       u'authors':article['authors']})\n",
    "\n",
    "# Generate Pandas DataFrame from list of dictionaries\n",
    "oh = pd.DataFrame.from_dict(articleInfo)\n",
    "oh = oh.to_csv (r'cardio3.csv', index = None, header=True) "
   ]
  },
  {
   "cell_type": "code",
   "execution_count": 124,
   "id": "fa17f8af-4157-4336-ad11-2de5c9e5071b",
   "metadata": {},
   "outputs": [
    {
     "data": {
      "text/html": [
       "<div>\n",
       "<style scoped>\n",
       "    .dataframe tbody tr th:only-of-type {\n",
       "        vertical-align: middle;\n",
       "    }\n",
       "\n",
       "    .dataframe tbody tr th {\n",
       "        vertical-align: top;\n",
       "    }\n",
       "\n",
       "    .dataframe thead th {\n",
       "        text-align: right;\n",
       "    }\n",
       "</style>\n",
       "<table border=\"1\" class=\"dataframe\">\n",
       "  <thead>\n",
       "    <tr style=\"text-align: right;\">\n",
       "      <th></th>\n",
       "      <th>pubmed_id</th>\n",
       "      <th>title</th>\n",
       "      <th>abstract</th>\n",
       "      <th>publication_date</th>\n",
       "      <th>authors</th>\n",
       "    </tr>\n",
       "  </thead>\n",
       "  <tbody>\n",
       "    <tr>\n",
       "      <th>0</th>\n",
       "      <td>36273186</td>\n",
       "      <td>High-dose Intensity-modulated proton therapy v...</td>\n",
       "      <td>Chemoradiotherapy is the standard of care for ...</td>\n",
       "      <td>2022-10-24</td>\n",
       "      <td>[{'lastname': 'Lertbutsayanukul', 'firstname':...</td>\n",
       "    </tr>\n",
       "    <tr>\n",
       "      <th>1</th>\n",
       "      <td>36272822</td>\n",
       "      <td>Cardiac Autonomic Neuropathy in Type 1 and 2 D...</td>\n",
       "      <td>Cardiac autonomic neuropathy (CAN) is a seriou...</td>\n",
       "      <td>2022-10-23</td>\n",
       "      <td>[{'lastname': 'Williams', 'firstname': 'Scott'...</td>\n",
       "    </tr>\n",
       "    <tr>\n",
       "      <th>2</th>\n",
       "      <td>36272231</td>\n",
       "      <td>Minimally Invasive Surgery for Genitourinary T...</td>\n",
       "      <td>Bladder and ureteral injuries are uncommon in ...</td>\n",
       "      <td>2022-10-23</td>\n",
       "      <td>[{'lastname': 'Collins', 'firstname': 'William...</td>\n",
       "    </tr>\n",
       "  </tbody>\n",
       "</table>\n",
       "</div>"
      ],
      "text/plain": [
       "   pubmed_id                                              title  \\\n",
       "0   36273186  High-dose Intensity-modulated proton therapy v...   \n",
       "1   36272822  Cardiac Autonomic Neuropathy in Type 1 and 2 D...   \n",
       "2   36272231  Minimally Invasive Surgery for Genitourinary T...   \n",
       "\n",
       "                                            abstract publication_date  \\\n",
       "0  Chemoradiotherapy is the standard of care for ...       2022-10-24   \n",
       "1  Cardiac autonomic neuropathy (CAN) is a seriou...       2022-10-23   \n",
       "2  Bladder and ureteral injuries are uncommon in ...       2022-10-23   \n",
       "\n",
       "                                             authors  \n",
       "0  [{'lastname': 'Lertbutsayanukul', 'firstname':...  \n",
       "1  [{'lastname': 'Williams', 'firstname': 'Scott'...  \n",
       "2  [{'lastname': 'Collins', 'firstname': 'William...  "
      ]
     },
     "execution_count": 124,
     "metadata": {},
     "output_type": "execute_result"
    }
   ],
   "source": [
    "pub2 = pd.read_csv('open_heart.csv')\n",
    "pub2.head(3)"
   ]
  },
  {
   "cell_type": "code",
   "execution_count": 100,
   "id": "e0d899e8-682b-495d-8bed-9f59fb1e9a4c",
   "metadata": {},
   "outputs": [
    {
     "data": {
      "text/plain": [
       "(1098, (25000,))"
      ]
     },
     "execution_count": 100,
     "metadata": {},
     "output_type": "execute_result"
    }
   ],
   "source": [
    "pub2['abstract'].isna().sum() , pub2['abstract'].shape"
   ]
  },
  {
   "cell_type": "code",
   "execution_count": 102,
   "id": "2bc3f0c1-6ca1-452b-8f5f-7ac6d307e464",
   "metadata": {},
   "outputs": [
    {
     "data": {
      "text/plain": [
       "('Comparative Effectiveness of Empagliflozin vs Liraglutide or Sitagliptin in Older Adults With Diverse Patient Characteristics.',\n",
       " 'Limited evidence is available on the comparative effectiveness of empagliflozin vs alternative second-line glucose-lowering agents in patients with type 2 diabetes (T2D) receiving routine care who have a broad spectrum of cardiorenal risk.\\nTo evaluate the association of empagliflozin with cardiovascular outcomes relative to liraglutide and sitagliptin, stratified by age, sex, baseline atherosclerotic cardiovascular disease (ASCVD), heart failure (HF), and chronic kidney disease (CKD).\\nThis retrospective comparative effectiveness cohort study used deidentified Medicare claims data from August 1, 2014, to September 30, 2018, with follow-up from drug initiation until treatment changes, death, or gap in Medicare enrollment (>30 days). Data analysis was performed from October 1, 2021, to April 30, 2022. Medicare fee-for-service beneficiaries older than 65 years with T2D were included. A total of 45 788 patients (22\\u202f894 propensity score-matched pairs initiating treatment with either empagliflozin or liraglutide) were included in cohort 1, and 45 624 patients (22\\u202f812 propensity score-matched pairs initiating treatment with either empagliflozin or sitagliptin) were included in cohort 2.\\nEmpagliflozin vs liraglutide (cohort 1) or empagliflozin vs sitagliptin (cohort 2).\\nPrimary outcomes were (1) modified major adverse cardiovascular events (MACEs), including a composite of myocardial infarction, stroke, and all-cause mortality, and (2) hospitalization for heart failure (HHF). Hazard ratios (HRs) and rate differences (RDs) per 1000 person-years were estimated, adjusting for 143 baseline covariates using 1:1 propensity score matching.\\nAmong 45 788 patients in cohort 1, the mean (SD) age was 71.9 (5.1) years; 23 396 patients (51.1%) were female, 22 392 (48.9%) were male, and 38 049 (83.1%) were White. Among 45 624 patients in cohort 2, the mean (SD) age was 72.1 (5.1) years; 21 418 patients (46.9%) were female, 24 206 (53.1%) were male, and 37 814 (82.9%) were White. Relative to patients initiating liraglutide, those initiating empagliflozin had a similar risk of the modified MACE outcome (HR, 0.90; 95% CI, 0.79-1.03) and a reduced risk of HHF (HR, 0.66; 95% CI, 0.52-0.82). Across subgroups, empagliflozin was associated with a lower risk of the modified MACE outcome in patients with a history of ASCVD (HR, 0.83; 95% CI, 0.71-0.98) and HF (HR, 0.77; 95% CI, 0.60-1.00) compared with liraglutide, and potential heterogeneity in estimates was observed by sex (male: HR, 0.85 [95% CI, 0.71-1.01]; female: HR, 1.16 [95% CI, 0.94-1.42]; P\\u2009=\\u2009.02 for homogeneity). However, reductions in the risk of HHF were observed across most subgroups (eg, ASCVD: HR, 0.66 [95% CI, 0.51-0.85]; HF: HR, 0.66 [95% CI, 0.49-0.88]). Compared with sitagliptin, empagliflozin was associated with reduced risks of the modified MACE outcome (HR, 0.68; 95% CI, 0.60-0.77) and HHF (HR, 0.45; 95% CI, 0.36-0.56), which were consistent across all subgroups. Absolute benefits of empagliflozin vs sitagliptin were larger in patients with a history of ASCVD (modified MACE: RD, -17.6 [95% CI, -24.9 to -10.4]; HHF: RD, -16.7 [95% CI, -21.7 to -11.9]), HF (modified MACE: RD, -41.1 [95% CI, -59.9 to -22.6]; HHF: RD, -50.4 [95% CI, -67.5 to -33.9]), or CKD (modified MACE: RD, -26.7 [95% CI, -41.3 to -12.3]; HHF: RD, -31.9 [95% CI, -43.5 to -20.8]).\\nIn this comparative effectiveness study of older adults, empagliflozin was associated with a lower risk of HHF (relative to both liraglutide and sitagliptin) and the modified MACE outcome (relative to sitagliptin), with larger absolute benefits in patients with established cardiorenal diseases. These findings suggest that older adults with T2D might benefit more from empagliflozin vs liraglutide or sitagliptin with respect to the risk of HHF; with respect to the risk of MACEs, empagliflozin might be preferable to liraglutide only in patients with cardiovascular disease history and to sitagliptin across all patient subgroups.')"
      ]
     },
     "execution_count": 102,
     "metadata": {},
     "output_type": "execute_result"
    }
   ],
   "source": [
    "pub2['title'][15], pub2['abstract'][15]"
   ]
  },
  {
   "cell_type": "code",
   "execution_count": 106,
   "id": "1bdc63c5-9e39-48dd-98fc-71777ae0830a",
   "metadata": {},
   "outputs": [],
   "source": [
    "from pymed import PubMed\n",
    "import pandas as pd\n",
    "\n",
    "## PUT YOUR SEARCH TERM HERE ##\n",
    "search_term = \"heart bypass\"\n",
    "\n",
    "pubmed = PubMed(tool=\"MyTool\", email=\"aalamel@clemson.edu\")\n",
    "results = pubmed.query(search_term, max_results=12000)\n",
    "articleList = []\n",
    "articleInfo = []\n",
    "\n",
    "for article in results:\n",
    "# Print the type of object we've found (can be either PubMedBookArticle or PubMedArticle).\n",
    "# We need to convert it to dictionary with available function\n",
    "    articleDict = article.toDict()\n",
    "    articleList.append(articleDict)\n",
    "\n",
    "# Generate list of dict records which will hold all article details that could be fetch from PUBMED API\n",
    "for article in articleList:\n",
    "#Sometimes article['pubmed_id'] contains list separated with comma - take first pubmedId in that list - thats article pubmedId\n",
    "    pubmedId = article['pubmed_id'].partition('\\n')[0]\n",
    "    # Append article info to dictionary \n",
    "    articleInfo.append({u'pubmed_id':pubmedId,\n",
    "                       u'title':article['title'],\n",
    "                       #u'keywords':article['keywords'],\n",
    "                       #u'journal':article['journal'],\n",
    "                       u'abstract':article['abstract'],\n",
    "                       #u'conclusions':article['conclusions'],\n",
    "                       #u'methods':article['methods'],\n",
    "                       #u'results': article['results'],\n",
    "                       #u'doi':article['doi'],\n",
    "                       u'publication_date':article['publication_date'], \n",
    "                       u'authors':article['authors']})\n",
    "\n",
    "# Generate Pandas DataFrame from list of dictionaries\n",
    "hb = pd.DataFrame.from_dict(articleInfo)\n",
    "hb = hb.to_csv (r'heart_bypass.csv', index = None, header=True) "
   ]
  },
  {
   "cell_type": "code",
   "execution_count": 125,
   "id": "aacf358e-2653-4972-b31f-acf1d7667c5d",
   "metadata": {},
   "outputs": [
    {
     "data": {
      "text/html": [
       "<div>\n",
       "<style scoped>\n",
       "    .dataframe tbody tr th:only-of-type {\n",
       "        vertical-align: middle;\n",
       "    }\n",
       "\n",
       "    .dataframe tbody tr th {\n",
       "        vertical-align: top;\n",
       "    }\n",
       "\n",
       "    .dataframe thead th {\n",
       "        text-align: right;\n",
       "    }\n",
       "</style>\n",
       "<table border=\"1\" class=\"dataframe\">\n",
       "  <thead>\n",
       "    <tr style=\"text-align: right;\">\n",
       "      <th></th>\n",
       "      <th>pubmed_id</th>\n",
       "      <th>title</th>\n",
       "      <th>abstract</th>\n",
       "      <th>publication_date</th>\n",
       "      <th>authors</th>\n",
       "    </tr>\n",
       "  </thead>\n",
       "  <tbody>\n",
       "    <tr>\n",
       "      <th>0</th>\n",
       "      <td>36272015</td>\n",
       "      <td>Does the Naked Emperor Parable Apply to Curren...</td>\n",
       "      <td>To address contemporary hypertension challenge...</td>\n",
       "      <td>2022-10-23</td>\n",
       "      <td>[{'lastname': 'Ferrario', 'firstname': 'Carlos...</td>\n",
       "    </tr>\n",
       "    <tr>\n",
       "      <th>1</th>\n",
       "      <td>36271783</td>\n",
       "      <td>Prediction of postoperative atrial fibrillatio...</td>\n",
       "      <td>NaN</td>\n",
       "      <td>2022-10-23</td>\n",
       "      <td>[{'lastname': 'Feilberg Rasmussen', 'firstname...</td>\n",
       "    </tr>\n",
       "    <tr>\n",
       "      <th>2</th>\n",
       "      <td>36271179</td>\n",
       "      <td>Association Between the Early Serum Lipid Meta...</td>\n",
       "      <td>Cardiac surgery with extracorporeal circulatio...</td>\n",
       "      <td>2022-10-22</td>\n",
       "      <td>[{'lastname': 'Han', 'firstname': 'Jingjing', ...</td>\n",
       "    </tr>\n",
       "  </tbody>\n",
       "</table>\n",
       "</div>"
      ],
      "text/plain": [
       "   pubmed_id                                              title  \\\n",
       "0   36272015  Does the Naked Emperor Parable Apply to Curren...   \n",
       "1   36271783  Prediction of postoperative atrial fibrillatio...   \n",
       "2   36271179  Association Between the Early Serum Lipid Meta...   \n",
       "\n",
       "                                            abstract publication_date  \\\n",
       "0  To address contemporary hypertension challenge...       2022-10-23   \n",
       "1                                                NaN       2022-10-23   \n",
       "2  Cardiac surgery with extracorporeal circulatio...       2022-10-22   \n",
       "\n",
       "                                             authors  \n",
       "0  [{'lastname': 'Ferrario', 'firstname': 'Carlos...  \n",
       "1  [{'lastname': 'Feilberg Rasmussen', 'firstname...  \n",
       "2  [{'lastname': 'Han', 'firstname': 'Jingjing', ...  "
      ]
     },
     "execution_count": 125,
     "metadata": {},
     "output_type": "execute_result"
    }
   ],
   "source": [
    "pub3 = pd.read_csv('heart_bypass.csv')\n",
    "pub3.head(3)"
   ]
  },
  {
   "cell_type": "code",
   "execution_count": 112,
   "id": "97a9f268-9dc0-495a-b20d-01be971a619b",
   "metadata": {},
   "outputs": [
    {
     "data": {
      "text/plain": [
       "(1638, (12000,), 19, (12000,))"
      ]
     },
     "execution_count": 112,
     "metadata": {},
     "output_type": "execute_result"
    }
   ],
   "source": [
    "pub3['abstract'].isna().sum() , pub3['abstract'].shape ,  pub3['title'].isna().sum() , pub3['title'].shape "
   ]
  },
  {
   "cell_type": "code",
   "execution_count": 110,
   "id": "9d5b1ffc-203c-4d6a-86b0-17c874817c35",
   "metadata": {},
   "outputs": [
    {
     "data": {
      "text/plain": [
       "('Acetaminophen pharmacokinetics in infants and children with congenital heart disease.',\n",
       " 'Acetaminophen is routinely used for perioperative analgesia in children undergoing major surgical procedures. There are few estimates of acetaminophen pharmacokinetic parameters in children with congenital heart disease, especially those with cyanotic heart disease.\\nThe current study prospectively investigated differences in acetaminophen pharmacokinetics following surgery using cardiopulmonary bypass in children with cyanotic and acyanotic congenital heart disease.\\nChildren (2-6\\u2009years, 9-23 kg) presenting for median sternotomy for Fontan palliation (cyanotic patients) or two ventricle surgical repair (acyanotic patients) were eligible for inclusion. A single intravenous dose of acetaminophen (15 mg/kg) was administered at the start of sternal closure after separation from cardiopulmonary bypass. The time-course of acetaminophen concentrations were described using non-linear mixed effects models. One and two-compartment disposition models with first-order elimination were tested. Pharmacokinetic parameter estimates were scaled using allometry and standardised to a 70 kg person.\\nThere were 208 acetaminophen concentrations assayed from 30 children, 15 with cyanotic and 15 with acyanotic heart disease. A 2-compartment model best described acetaminophen PK. Parameter estimates (population parameter variability, PPV%; 95% confidence interval, CI) were clearance CL 15.3 L.h-1.70kg-1 (22.2%; 13.8-16.7), intercompartment clearance Q 45.4 L.h-1.70kg-1 (22.4%; 25.2-61.9), central volume of distribution V1 33.5 L.70kg-1 (23.2%; 25.9-38.8), peripheral volume of distribution V2 32.1 L.70kg\\nAcetaminophen pharmacokinetics were characterized using a 2-compartment model with first-order elimination following cardiac bypass surgery in children. Population pharmacokinetic parameter estimates were similar to other studies in children. No differences were detected between patients with cyanotic and acyanotic heart disease.')"
      ]
     },
     "execution_count": 110,
     "metadata": {},
     "output_type": "execute_result"
    }
   ],
   "source": [
    "pub3['title'][20], pub3['abstract'][20]"
   ]
  },
  {
   "cell_type": "code",
   "execution_count": 113,
   "id": "7b2f2f5e-3c64-44e8-928a-af7eb45cb6ae",
   "metadata": {},
   "outputs": [],
   "source": [
    "from pymed import PubMed\n",
    "import pandas as pd\n",
    "\n",
    "## PUT YOUR SEARCH TERM HERE ##\n",
    "search_term = \"Cardiac Valve Annuloplasty\"\n",
    "\n",
    "pubmed = PubMed(tool=\"MyTool\", email=\"aalamel@clemson.edu\")\n",
    "results = pubmed.query(search_term, max_results=1000)\n",
    "articleList = []\n",
    "articleInfo = []\n",
    "\n",
    "for article in results:\n",
    "# Print the type of object we've found (can be either PubMedBookArticle or PubMedArticle).\n",
    "# We need to convert it to dictionary with available function\n",
    "    articleDict = article.toDict()\n",
    "    articleList.append(articleDict)\n",
    "\n",
    "# Generate list of dict records which will hold all article details that could be fetch from PUBMED API\n",
    "for article in articleList:\n",
    "#Sometimes article['pubmed_id'] contains list separated with comma - take first pubmedId in that list - thats article pubmedId\n",
    "    pubmedId = article['pubmed_id'].partition('\\n')[0]\n",
    "    # Append article info to dictionary \n",
    "    articleInfo.append({u'pubmed_id':pubmedId,\n",
    "                       u'title':article['title'],\n",
    "                       #u'keywords':article['keywords'],\n",
    "                       #u'journal':article['journal'],\n",
    "                       u'abstract':article['abstract'],\n",
    "                       #u'conclusions':article['conclusions'],\n",
    "                       #u'methods':article['methods'],\n",
    "                       #u'results': article['results'],\n",
    "                       #u'doi':article['doi'],\n",
    "                       u'publication_date':article['publication_date'], \n",
    "                       u'authors':article['authors']})\n",
    "\n",
    "# Generate Pandas DataFrame from list of dictionaries\n",
    "cva = pd.DataFrame.from_dict(articleInfo)\n",
    "cva = cva.to_csv (r'Cardiac_Valve_Annuloplasty.csv', index = None, header=True) "
   ]
  },
  {
   "cell_type": "code",
   "execution_count": 126,
   "id": "51666f06-e017-4a7f-a91d-917f4b046667",
   "metadata": {},
   "outputs": [
    {
     "data": {
      "text/html": [
       "<div>\n",
       "<style scoped>\n",
       "    .dataframe tbody tr th:only-of-type {\n",
       "        vertical-align: middle;\n",
       "    }\n",
       "\n",
       "    .dataframe tbody tr th {\n",
       "        vertical-align: top;\n",
       "    }\n",
       "\n",
       "    .dataframe thead th {\n",
       "        text-align: right;\n",
       "    }\n",
       "</style>\n",
       "<table border=\"1\" class=\"dataframe\">\n",
       "  <thead>\n",
       "    <tr style=\"text-align: right;\">\n",
       "      <th></th>\n",
       "      <th>pubmed_id</th>\n",
       "      <th>title</th>\n",
       "      <th>abstract</th>\n",
       "      <th>publication_date</th>\n",
       "      <th>authors</th>\n",
       "    </tr>\n",
       "  </thead>\n",
       "  <tbody>\n",
       "    <tr>\n",
       "      <th>0</th>\n",
       "      <td>36272618</td>\n",
       "      <td>Current controversies in aortic valve-preservi...</td>\n",
       "      <td>The clinical outcome of severe aortic regurgit...</td>\n",
       "      <td>2022-10-23</td>\n",
       "      <td>[{'lastname': 'Kunihara', 'firstname': 'Takash...</td>\n",
       "    </tr>\n",
       "    <tr>\n",
       "      <th>1</th>\n",
       "      <td>36264407</td>\n",
       "      <td>The Critical Biomechanics of Aortomitral Angle...</td>\n",
       "      <td>Systolic anterior motion (SAM) of the mitral v...</td>\n",
       "      <td>2022-10-21</td>\n",
       "      <td>[{'lastname': 'Park', 'firstname': 'Matthew H'...</td>\n",
       "    </tr>\n",
       "    <tr>\n",
       "      <th>2</th>\n",
       "      <td>36258644</td>\n",
       "      <td>Chordae Tendineae Approximation Technique for ...</td>\n",
       "      <td>Untreated severe tricuspid regurgitation (TR) ...</td>\n",
       "      <td>2022-10-20</td>\n",
       "      <td>[{'lastname': 'Jang', 'firstname': 'Dong Hee',...</td>\n",
       "    </tr>\n",
       "  </tbody>\n",
       "</table>\n",
       "</div>"
      ],
      "text/plain": [
       "   pubmed_id                                              title  \\\n",
       "0   36272618  Current controversies in aortic valve-preservi...   \n",
       "1   36264407  The Critical Biomechanics of Aortomitral Angle...   \n",
       "2   36258644  Chordae Tendineae Approximation Technique for ...   \n",
       "\n",
       "                                            abstract publication_date  \\\n",
       "0  The clinical outcome of severe aortic regurgit...       2022-10-23   \n",
       "1  Systolic anterior motion (SAM) of the mitral v...       2022-10-21   \n",
       "2  Untreated severe tricuspid regurgitation (TR) ...       2022-10-20   \n",
       "\n",
       "                                             authors  \n",
       "0  [{'lastname': 'Kunihara', 'firstname': 'Takash...  \n",
       "1  [{'lastname': 'Park', 'firstname': 'Matthew H'...  \n",
       "2  [{'lastname': 'Jang', 'firstname': 'Dong Hee',...  "
      ]
     },
     "execution_count": 126,
     "metadata": {},
     "output_type": "execute_result"
    }
   ],
   "source": [
    "pub4 = pd.read_csv('Cardiac_Valve_Annuloplasty.csv')\n",
    "pub4.head(3)"
   ]
  },
  {
   "cell_type": "code",
   "execution_count": 115,
   "id": "5349489e-722c-4f1b-a4af-9edf5c805925",
   "metadata": {},
   "outputs": [
    {
     "data": {
      "text/plain": [
       "('Early Atrial Tachyarrhythmia Recurrence Predicts Late Atrial Tachyarrhythmia Recurrence After the Cryo-Maze Procedure\\u3000- An Observational Study.',\n",
       " 'It is unknown whether early atrial tachyarrhythmia (ATA) recurrence occurring within 3 months after the Maze procedure predicts late ATA recurrence.Methods\\u2004and\\u2004Results: This study involved 610 patients who underwent the modified Cryo-Maze procedure in conjunction with other cardiac surgery. The primary outcomes were late ATA recurrence, defined as occurring ≥3 months after surgery. The effects of early ATA recurrence on late ATA recurrence were analyzed using a Cox proportional hazards model. The following 11 covariates were considered explanatory variables: early ATA recurrence, age, sex, body surface area, preoperative duration of atrial fibrillation, preoperative left atrial diameter, and concomitant surgery (mitral valve replacement, mitral valve repair, aortic valve replacement, tricuspid annuloplasty, and left atrial appendage closure). Statistical analyses were performed with a 2-sided 5% significance level. Early ATA recurrence occurred in 174 patients (28.5%). Late ATA recurrence occurred in 167 patients (27.5%), with 595 events identified in these patients. The Cox proportional hazards model showed that early ATA recurrence was an independent predictor of late ATA recurrence (hazard ratio, 4.14; 95% confidence interval, 3.00-5.70; P<0.001)Conclusions: Early ATA recurrence was an independent predictor of late ATA recurrence among patients undergoing the modified Cryo-Maze procedure. The blanking period might not be applied to patients undergoing the modified Cryo-Maze procedure.')"
      ]
     },
     "execution_count": 115,
     "metadata": {},
     "output_type": "execute_result"
    }
   ],
   "source": [
    "pub4['title'][20], pub4['abstract'][20]"
   ]
  },
  {
   "cell_type": "code",
   "execution_count": 116,
   "id": "4ebdf901-8534-4df2-8af0-dbdc316fa94a",
   "metadata": {},
   "outputs": [],
   "source": [
    "from pymed import PubMed\n",
    "import pandas as pd\n",
    "\n",
    "## PUT YOUR SEARCH TERM HERE ##\n",
    "search_term = \"Cardiac Surgical Procedures\"\n",
    "\n",
    "pubmed = PubMed(tool=\"MyTool\", email=\"aalamel@clemson.edu\")\n",
    "results = pubmed.query(search_term, max_results=30000)\n",
    "articleList = []\n",
    "articleInfo = []\n",
    "\n",
    "for article in results:\n",
    "# Print the type of object we've found (can be either PubMedBookArticle or PubMedArticle).\n",
    "# We need to convert it to dictionary with available function\n",
    "    articleDict = article.toDict()\n",
    "    articleList.append(articleDict)\n",
    "\n",
    "# Generate list of dict records which will hold all article details that could be fetch from PUBMED API\n",
    "for article in articleList:\n",
    "#Sometimes article['pubmed_id'] contains list separated with comma - take first pubmedId in that list - thats article pubmedId\n",
    "    pubmedId = article['pubmed_id'].partition('\\n')[0]\n",
    "    # Append article info to dictionary \n",
    "    articleInfo.append({u'pubmed_id':pubmedId,\n",
    "                       u'title':article['title'],\n",
    "                       #u'keywords':article['keywords'],\n",
    "                       #u'journal':article['journal'],\n",
    "                       u'abstract':article['abstract'],\n",
    "                       #u'conclusions':article['conclusions'],\n",
    "                       #u'methods':article['methods'],\n",
    "                       #u'results': article['results'],\n",
    "                       #u'doi':article['doi'],\n",
    "                       u'publication_date':article['publication_date'], \n",
    "                       u'authors':article['authors']})\n",
    "\n",
    "# Generate Pandas DataFrame from list of dictionaries\n",
    "csp = pd.DataFrame.from_dict(articleInfo)\n",
    "csp = csp.to_csv (r'Cardiac_Surgical_Procedures.csv', index = None, header=True) "
   ]
  },
  {
   "cell_type": "code",
   "execution_count": 127,
   "id": "d53c559d-ad64-46aa-9a7c-5485f91cf18b",
   "metadata": {},
   "outputs": [
    {
     "data": {
      "text/html": [
       "<div>\n",
       "<style scoped>\n",
       "    .dataframe tbody tr th:only-of-type {\n",
       "        vertical-align: middle;\n",
       "    }\n",
       "\n",
       "    .dataframe tbody tr th {\n",
       "        vertical-align: top;\n",
       "    }\n",
       "\n",
       "    .dataframe thead th {\n",
       "        text-align: right;\n",
       "    }\n",
       "</style>\n",
       "<table border=\"1\" class=\"dataframe\">\n",
       "  <thead>\n",
       "    <tr style=\"text-align: right;\">\n",
       "      <th></th>\n",
       "      <th>pubmed_id</th>\n",
       "      <th>title</th>\n",
       "      <th>abstract</th>\n",
       "      <th>publication_date</th>\n",
       "      <th>authors</th>\n",
       "    </tr>\n",
       "  </thead>\n",
       "  <tbody>\n",
       "    <tr>\n",
       "      <th>0</th>\n",
       "      <td>36272814</td>\n",
       "      <td>Association of dysglycemia with post-operative...</td>\n",
       "      <td>Perioperative dysglycemia is associated with a...</td>\n",
       "      <td>2022-10-23</td>\n",
       "      <td>[{'lastname': 'Vanderhoek', 'firstname': 'Samu...</td>\n",
       "    </tr>\n",
       "    <tr>\n",
       "      <th>1</th>\n",
       "      <td>36272618</td>\n",
       "      <td>Current controversies in aortic valve-preservi...</td>\n",
       "      <td>The clinical outcome of severe aortic regurgit...</td>\n",
       "      <td>2022-10-23</td>\n",
       "      <td>[{'lastname': 'Kunihara', 'firstname': 'Takash...</td>\n",
       "    </tr>\n",
       "    <tr>\n",
       "      <th>2</th>\n",
       "      <td>36271214</td>\n",
       "      <td>Interactive visual exploration of surgical pro...</td>\n",
       "      <td>Integrated operating rooms provide rich source...</td>\n",
       "      <td>2022-10-23</td>\n",
       "      <td>[{'lastname': 'Mayer', 'firstname': 'Benedikt'...</td>\n",
       "    </tr>\n",
       "  </tbody>\n",
       "</table>\n",
       "</div>"
      ],
      "text/plain": [
       "   pubmed_id                                              title  \\\n",
       "0   36272814  Association of dysglycemia with post-operative...   \n",
       "1   36272618  Current controversies in aortic valve-preservi...   \n",
       "2   36271214  Interactive visual exploration of surgical pro...   \n",
       "\n",
       "                                            abstract publication_date  \\\n",
       "0  Perioperative dysglycemia is associated with a...       2022-10-23   \n",
       "1  The clinical outcome of severe aortic regurgit...       2022-10-23   \n",
       "2  Integrated operating rooms provide rich source...       2022-10-23   \n",
       "\n",
       "                                             authors  \n",
       "0  [{'lastname': 'Vanderhoek', 'firstname': 'Samu...  \n",
       "1  [{'lastname': 'Kunihara', 'firstname': 'Takash...  \n",
       "2  [{'lastname': 'Mayer', 'firstname': 'Benedikt'...  "
      ]
     },
     "execution_count": 127,
     "metadata": {},
     "output_type": "execute_result"
    }
   ],
   "source": [
    "pub5 = pd.read_csv('Cardiac_Surgical_Procedures.csv')\n",
    "pub5.head(3)"
   ]
  },
  {
   "cell_type": "code",
   "execution_count": 120,
   "id": "8b64c697-1538-429b-a3dd-df65e57a2c07",
   "metadata": {},
   "outputs": [
    {
     "data": {
      "text/plain": [
       "('Predictive Model for Thrombus Formation After Transcatheter Valve Replacement.',\n",
       " \"Leaflet thrombosis is a significant adverse event after transcatheter aortic valve (TAV) replacement (TAVR). The purpose of our study was to present a semi-empirical, mathematical model that links patient-specific anatomic, valve, and flow parameters to predict likelihood of leaflet thrombosis.\\nThe two main energy sources of neo-sinus (NS) washout after TAVR include the jet flow downstream of the TAV and NS geometric change in volume due to the leaflets opening and closing. Both are highly dependent on patient anatomic and hemodynamic factors. As rotation of blood flow is prevalent in both the sinus of Valsalva and then the NS, we adopted the vorticity flux or circulation (Г) as a metric quantifying overall washout. Leaflet thrombus volumes were segmented based on hypo-attenuating leaflet thickening (HALT) in post-TAVR patient's gated computed tomography. Г was assessed using dimensional scaling as well as computational fluid dynamics (CFD) respectively and correlated to the thrombosis volumes using sensitivity and specificity analysis.\\nГ in the NS, that accounted for patient flow and anatomic conditions derived from scaling arguments significantly better predicted the occurrence of leaflet thrombus than CFD derived measures such as stasis volumes or wall shear stress. Given results from the six patient datasets considered herein, a threshold Г value of 28.0 yielded a sensitivity and specificity of 100% where patients with Gamma < 28 developed valve thrombosis. A 10% error in measurements of all variables can bring the sensitivity specificity down to 87%.\\nA predictive model relating likelihood of valve thrombosis using Г in the NS was developed with promising sensitivity and specificity. With further studies and improvements, this predictive technology may lead to alerting physicians on the risk for thrombus formation following TAVR.\")"
      ]
     },
     "execution_count": 120,
     "metadata": {},
     "output_type": "execute_result"
    }
   ],
   "source": [
    "pub5['title'][5000], pub5['abstract'][5000]"
   ]
  },
  {
   "cell_type": "code",
   "execution_count": 119,
   "id": "6707c12c-d9a5-47bb-996d-f60e8acabb43",
   "metadata": {},
   "outputs": [
    {
     "data": {
      "text/plain": [
       "(7368, (30000,), 24, (30000,))"
      ]
     },
     "execution_count": 119,
     "metadata": {},
     "output_type": "execute_result"
    }
   ],
   "source": [
    "pub5['abstract'].isna().sum() , pub5['abstract'].shape ,  pub5['title'].isna().sum() , pub5['title'].shape "
   ]
  },
  {
   "cell_type": "code",
   "execution_count": 131,
   "id": "def2f141-493a-49aa-8b67-d0fd4ca7bb1a",
   "metadata": {},
   "outputs": [],
   "source": [
    "df1 = pd.read_csv(\"Coronary_Artery_Bypass.csv\")\n",
    "df2 = pd.read_csv('Coronary_Artery_Disease.csv')\n",
    "df3 = pd.read_csv('open_heart.csv')\n",
    "df4 = pd.read_csv('heart_bypass.csv')\n",
    "df5 = pd.read_csv('Cardiac_Valve_Annuloplasty.csv')\n",
    "df6 = pd.read_csv('Cardiac_Surgical_Procedures.csv')\n",
    "\n",
    "pup_all = pd.concat([df1, df2, df3, df4, df5, df6], ignore_index=True, axis=0)\n",
    "pup_all = pup_all.to_csv (r'cardio_data.csv', index = None, header=True) "
   ]
  },
  {
   "cell_type": "code",
   "execution_count": 132,
   "id": "4858b641-61aa-4090-8bf8-58b97442c377",
   "metadata": {},
   "outputs": [
    {
     "data": {
      "text/plain": [
       "(98000, 5)"
      ]
     },
     "execution_count": 132,
     "metadata": {},
     "output_type": "execute_result"
    }
   ],
   "source": [
    "pubmed = pd.read_csv('cardio_data.csv')\n",
    "pubmed.shape"
   ]
  },
  {
   "cell_type": "code",
   "execution_count": 133,
   "id": "5309ef38-75fe-4dca-a6a8-1cc76158c8d6",
   "metadata": {},
   "outputs": [
    {
     "data": {
      "text/plain": [
       "(14673, (98000,), 136, (98000,))"
      ]
     },
     "execution_count": 133,
     "metadata": {},
     "output_type": "execute_result"
    }
   ],
   "source": [
    "pubmed['abstract'].isna().sum() , pubmed['abstract'].shape ,  pubmed['title'].isna().sum() , pubmed['title'].shape "
   ]
  },
  {
   "cell_type": "code",
   "execution_count": 138,
   "id": "24d4a528-41ef-4b31-a1b9-76a07bbbca1e",
   "metadata": {},
   "outputs": [
    {
     "data": {
      "text/plain": [
       "('Patency of conduits in patients who received internal mammary artery, radial artery and saphenous vein grafts.',\n",
       " 'Where each patient has all three conduits of internal mammary artery (IMA), saphenous vein graft (SVG) and radial artery (RA), most confounders affecting comparison between conduits can be mitigated. Additionally, since SVG progressively fails over time, restricting patient angiography to the late period only can mitigate against early SVG patency that may have occluded in the late period.\\nResearch protocol driven conventional angiography was performed for patients with at least one of each conduit of IMA, RA and SVG and a minimum of 7\\u2009years postoperative. The primary analysis was perfect patency and secondary analysis was overall patency including angiographic evidence of conduit lumen irregularity from conduit atheroma. Multivariable generalized linear mixed model (GLMM) was used. Patency excluded occluded or \"string sign\" conduits. Perfect patency was present in patent grafts if there was no lumen irregularity.\\nFifty patients underwent coronary angiography at overall duration postoperative 13.1\\u2009±\\u20092.9, and age 74.3\\u2009±\\u20097.0\\u2009years. Of 196 anastomoses, IMA 62, RA 77 and SVG 57. Most IMA were to the left anterior descending territory and most RA and SVG were to the circumflex and right coronary territories. Perfect patency RA 92.2% was not different to IMA 96.8%, P\\u2009=\\u20090.309; and both were significantly better than SVG 17.5%, P\\u2009<\\u20090.001. Patency RA 93.5% was also not different to IMA 96.8%, P\\u2009=\\u20090.169, and both arterial conduits were significantly higher than SVG 82.5%, P\\u2009=\\u20090.029. Grafting according to coronary territory was not significant for perfect patency, P\\u2009=\\u20090.997 and patency P\\u2009=\\u20090.289. Coronary stenosis predicted perfect patency for RA only, P\\u2009=\\u20090.030 and for patency, RA, P\\u2009=\\u20090.007, and SVG, P\\u2009=\\u20090.032. When both arterial conduits were combined, perfect patency, P\\u2009<\\u20090.001, and patency, P\\u2009=\\u20090.017, were superior to SVG.\\nAll but one patent internal mammary artery or radial artery grafts had perfect patency and had superior perfect patency and overall patency compared to saphenous vein grafts.')"
      ]
     },
     "execution_count": 138,
     "metadata": {},
     "output_type": "execute_result"
    }
   ],
   "source": [
    "pubmed['title'][5640], pubmed['abstract'][5640]"
   ]
  },
  {
   "cell_type": "code",
   "execution_count": null,
   "id": "04282c40-d7bf-4964-b304-b8539500371f",
   "metadata": {},
   "outputs": [],
   "source": []
  }
 ],
 "metadata": {
  "kernelspec": {
   "display_name": "Python 3 (ipykernel)",
   "language": "python",
   "name": "python3"
  },
  "language_info": {
   "codemirror_mode": {
    "name": "ipython",
    "version": 3
   },
   "file_extension": ".py",
   "mimetype": "text/x-python",
   "name": "python",
   "nbconvert_exporter": "python",
   "pygments_lexer": "ipython3",
   "version": "3.8.3"
  }
 },
 "nbformat": 4,
 "nbformat_minor": 5
}
